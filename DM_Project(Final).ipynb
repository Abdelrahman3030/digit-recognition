{
 "cells": [
  {
   "cell_type": "code",
   "execution_count": 1,
   "id": "08f7937c",
   "metadata": {},
   "outputs": [],
   "source": [
    "import tensorflow as tf\n",
    "from tensorflow import keras\n",
    "from tensorflow.keras.models import load_model\n",
    "import numpy as np\n",
    "import matplotlib.pyplot as plt"
   ]
  },
  {
   "cell_type": "markdown",
   "id": "62ad11ef",
   "metadata": {},
   "source": [
    "# First Algorithm (DNN)"
   ]
  },
  {
   "cell_type": "code",
   "execution_count": 2,
   "id": "1df7c201",
   "metadata": {},
   "outputs": [],
   "source": [
    "mnist = tf.keras.datasets.mnist"
   ]
  },
  {
   "cell_type": "code",
   "execution_count": 3,
   "id": "3c874554",
   "metadata": {},
   "outputs": [
    {
     "name": "stdout",
     "output_type": "stream",
     "text": [
      "Epoch 1/5\n",
      "1875/1875 [==============================] - 9s 4ms/step - loss: 0.2314 - accuracy: 0.9316\n",
      "Epoch 2/5\n",
      "1875/1875 [==============================] - 7s 4ms/step - loss: 0.0912 - accuracy: 0.9714\n",
      "Epoch 3/5\n",
      "1875/1875 [==============================] - 8s 4ms/step - loss: 0.0608 - accuracy: 0.9803\n",
      "Epoch 4/5\n",
      "1875/1875 [==============================] - 8s 4ms/step - loss: 0.0440 - accuracy: 0.9855\n",
      "Epoch 5/5\n",
      "1875/1875 [==============================] - 8s 4ms/step - loss: 0.0316 - accuracy: 0.9894\n"
     ]
    },
    {
     "data": {
      "text/plain": [
       "<keras.callbacks.History at 0x1ddd60a88e0>"
      ]
     },
     "execution_count": 3,
     "metadata": {},
     "output_type": "execute_result"
    }
   ],
   "source": [
    "(x_train, y_train) , (x_test, y_test) = mnist.load_data()   # lets Unpack that dataset to training and testing variables\n",
    "\n",
    "\n",
    "x_train = tf.keras.utils.normalize(x_train , axis=1)  # to normalize X train on axis 1\n",
    "x_test = tf.keras.utils.normalize(x_test , axis=1)     # to normalize X test on axis 1 \n",
    "Dnn_model = tf.keras.models.Sequential()                   # to build our network as FeedForward model \n",
    "Dnn_model.add(tf.keras.layers.Flatten(input_shape=(28,28)))                  # to add flatten layer in first layer which is (Input layer)\n",
    "Dnn_model.add(tf.keras.layers.Dense(256,activation=tf.nn.relu)) # Create first Hidden Layer with 256 neurons with Relu Function\n",
    "Dnn_model.add(tf.keras.layers.Dense(128,activation=tf.nn.relu))   # Create second Hidden Layer with 128 neurons with Relu Function \n",
    "Dnn_model.add(tf.keras.layers.Dense(10,activation=tf.nn.softmax)) # creating output layer with 10 neurons for range 10 to classify and with (Softmax) for (probability Distribution)\n",
    "Dnn_model.compile(optimizer='adam' , loss='sparse_categorical_crossentropy' , metrics=['accuracy'])  #to add your parameters\n",
    "Dnn_model.fit(x_train,y_train , epochs=5)  # to start train your Network"
   ]
  },
  {
   "cell_type": "code",
   "execution_count": 5,
   "id": "1fb2f362",
   "metadata": {},
   "outputs": [
    {
     "name": "stdout",
     "output_type": "stream",
     "text": [
      "313/313 [==============================] - 1s 2ms/step - loss: 0.0881 - accuracy: 0.9753\n",
      "DNN Validation Loss: 0.08805333822965622\n",
      "DNN Validation Accuracy: 0.9753000140190125\n"
     ]
    }
   ],
   "source": [
    "Dnn_val_loss , Dnn_val_acc = Dnn_model.evaluate(x_test, y_test)\n",
    "print(\"DNN Validation Loss:\", Dnn_val_loss)\n",
    "print(\"DNN Validation Accuracy:\", Dnn_val_acc)"
   ]
  },
  {
   "cell_type": "code",
   "execution_count": 7,
   "id": "df80e245",
   "metadata": {},
   "outputs": [
    {
     "name": "stderr",
     "output_type": "stream",
     "text": [
      "WARNING:absl:Found untraced functions such as _update_step_xla while saving (showing 1 of 1). These functions will not be directly callable after loading.\n"
     ]
    },
    {
     "name": "stdout",
     "output_type": "stream",
     "text": [
      "INFO:tensorflow:Assets written to: epic_num_reader.model\\assets\n"
     ]
    },
    {
     "name": "stderr",
     "output_type": "stream",
     "text": [
      "INFO:tensorflow:Assets written to: epic_num_reader.model\\assets\n"
     ]
    }
   ],
   "source": [
    "Dnn_model.save('epic_num_reader.model') # to save your parameters"
   ]
  },
  {
   "cell_type": "code",
   "execution_count": 8,
   "id": "f9f155cc",
   "metadata": {},
   "outputs": [],
   "source": [
    "new_model = tf.keras.models.load_model('epic_num_reader.model') # to load the parameters"
   ]
  },
  {
   "cell_type": "code",
   "execution_count": 9,
   "id": "511d259b",
   "metadata": {},
   "outputs": [
    {
     "name": "stdout",
     "output_type": "stream",
     "text": [
      "313/313 [==============================] - 1s 2ms/step\n",
      "[[5.69834006e-11 3.41461803e-10 1.07446297e-07 ... 9.99999523e-01\n",
      "  3.71107277e-11 9.71157519e-08]\n",
      " [7.46569690e-13 1.11528789e-04 9.99888301e-01 ... 6.27215224e-11\n",
      "  1.39012261e-12 8.83351444e-16]\n",
      " [1.01103081e-09 9.99988556e-01 2.57084110e-07 ... 5.89898991e-06\n",
      "  3.37059600e-06 4.37598935e-09]\n",
      " ...\n",
      " [2.46186513e-12 3.44533890e-09 1.22275556e-09 ... 4.25202842e-07\n",
      "  6.29230044e-07 5.49269537e-08]\n",
      " [7.04098446e-10 1.06072551e-09 1.28993413e-10 ... 5.61020705e-08\n",
      "  1.15921895e-04 4.91648458e-11]\n",
      " [3.52661178e-10 1.56201614e-11 5.57883566e-11 ... 8.27150143e-13\n",
      "  6.32336461e-10 4.90234752e-13]]\n"
     ]
    }
   ],
   "source": [
    "predictions = new_model.predict([x_test])\n",
    "print(predictions)"
   ]
  },
  {
   "cell_type": "code",
   "execution_count": 10,
   "id": "bc9c0648",
   "metadata": {},
   "outputs": [
    {
     "data": {
      "image/png": "[encoded data removed]",
      "text/plain": [
       "<Figure size 432x288 with 1 Axes>"
      ]
     },
     "metadata": {
      "needs_background": "light"
     },
     "output_type": "display_data"
    }
   ],
   "source": [
    "plt.imshow(x_test[6578])\n",
    "plt.show()"
   ]
  },
  {
   "cell_type": "code",
   "execution_count": 11,
   "id": "c556fb96",
   "metadata": {},
   "outputs": [
    {
     "name": "stdout",
     "output_type": "stream",
     "text": [
      "8\n"
     ]
    }
   ],
   "source": [
    "print(np.argmax(predictions[6578]))  # to get the predicted value of index 2"
   ]
  },
  {
   "cell_type": "markdown",
   "id": "2e10c592",
   "metadata": {},
   "source": [
    "# Second Algorithm (CNN)"
   ]
  },
  {
   "cell_type": "code",
   "execution_count": 12,
   "id": "def7bcf4",
   "metadata": {},
   "outputs": [],
   "source": [
    "x_train_Cnn = np.expand_dims(x_train, axis=-1)\n",
    "x_test_Cnn = np.expand_dims(x_test, axis=-1)\n",
    "Cnn_model = tf.keras.models.Sequential([\n",
    "    tf.keras.layers.Conv2D(64, (3,3), activation=tf.nn.relu, input_shape=[28,28,1]),\n",
    "    tf.keras.layers.MaxPooling2D(2,2),\n",
    "    tf.keras.layers.Conv2D(64, (3,3), activation=tf.nn.relu),\n",
    "    tf.keras.layers.MaxPooling2D(2,2),\n",
    "    tf.keras.layers.Flatten(),\n",
    "    tf.keras.layers.Dense(256,activation=tf.nn.relu),\n",
    "    tf.keras.layers.Dense(128,activation=tf.nn.relu),\n",
    "    tf.keras.layers.Dense(10,activation=tf.nn.softmax)\n",
    "])"
   ]
  },
  {
   "cell_type": "code",
   "execution_count": 13,
   "id": "73373d7f",
   "metadata": {},
   "outputs": [],
   "source": [
    "Cnn_model.compile(optimizer='adam' , loss='sparse_categorical_crossentropy' , metrics=['accuracy'])"
   ]
  },
  {
   "cell_type": "code",
   "execution_count": 14,
   "id": "c2dab49f",
   "metadata": {},
   "outputs": [
    {
     "name": "stdout",
     "output_type": "stream",
     "text": [
      "Epoch 1/5\n",
      "1875/1875 [==============================] - 71s 37ms/step - loss: 0.1439 - accuracy: 0.9556\n",
      "Epoch 2/5\n",
      "1875/1875 [==============================] - 67s 36ms/step - loss: 0.0478 - accuracy: 0.9854\n",
      "Epoch 3/5\n",
      "1875/1875 [==============================] - 67s 36ms/step - loss: 0.0328 - accuracy: 0.9897\n",
      "Epoch 4/5\n",
      "1875/1875 [==============================] - 67s 36ms/step - loss: 0.0227 - accuracy: 0.9927\n",
      "Epoch 5/5\n",
      "1875/1875 [==============================] - 68s 36ms/step - loss: 0.0181 - accuracy: 0.9945\n"
     ]
    },
    {
     "data": {
      "text/plain": [
       "<keras.callbacks.History at 0x1ddffbd74f0>"
      ]
     },
     "execution_count": 14,
     "metadata": {},
     "output_type": "execute_result"
    }
   ],
   "source": [
    "Cnn_model.fit(x_train_Cnn,y_train , epochs=5)"
   ]
  },
  {
   "cell_type": "code",
   "execution_count": 15,
   "id": "9689092a",
   "metadata": {},
   "outputs": [
    {
     "name": "stdout",
     "output_type": "stream",
     "text": [
      "313/313 [==============================] - 3s 9ms/step - loss: 0.0424 - accuracy: 0.9879\n",
      "CNN Validation Loss: 0.042433395981788635\n",
      "CNN Validation Accuracy: 0.9879000186920166\n"
     ]
    }
   ],
   "source": [
    "Cnn_val_loss , Cnn_val_acc = Cnn_model.evaluate(x_test_Cnn, y_test)\n",
    "print(\"CNN Validation Loss:\", Cnn_val_loss)\n",
    "print(\"CNN Validation Accuracy:\", Cnn_val_acc)"
   ]
  },
  {
   "cell_type": "code",
   "execution_count": 16,
   "id": "aa43baa4",
   "metadata": {},
   "outputs": [],
   "source": [
    "Cnn_model.save_weights('CNN-MNIST.h5')"
   ]
  },
  {
   "cell_type": "code",
   "execution_count": 17,
   "id": "3db53d09",
   "metadata": {},
   "outputs": [
    {
     "name": "stderr",
     "output_type": "stream",
     "text": [
      "WARNING:absl:Found untraced functions such as _jit_compiled_convolution_op, _jit_compiled_convolution_op, _update_step_xla while saving (showing 3 of 3). These functions will not be directly callable after loading.\n"
     ]
    },
    {
     "name": "stdout",
     "output_type": "stream",
     "text": [
      "INFO:tensorflow:Assets written to: epic_num_reader.model\\assets\n"
     ]
    },
    {
     "name": "stderr",
     "output_type": "stream",
     "text": [
      "INFO:tensorflow:Assets written to: epic_num_reader.model\\assets\n"
     ]
    }
   ],
   "source": [
    "Cnn_model.save('epic_num_reader.model') # to save your parameters"
   ]
  },
  {
   "cell_type": "code",
   "execution_count": 18,
   "id": "bdcfe2fd",
   "metadata": {},
   "outputs": [],
   "source": [
    "new_model = tf.keras.models.load_model('epic_num_reader.model') # to load the parameters"
   ]
  },
  {
   "cell_type": "code",
   "execution_count": 19,
   "id": "bba36f4c",
   "metadata": {},
   "outputs": [
    {
     "name": "stdout",
     "output_type": "stream",
     "text": [
      "313/313 [==============================] - 3s 9ms/step\n",
      "[[1.2679011e-13 2.2516489e-11 3.6696375e-11 ... 1.0000000e+00\n",
      "  7.2338047e-12 1.7535150e-08]\n",
      " [2.0534224e-04 1.2216398e-06 9.9978620e-01 ... 1.2223250e-06\n",
      "  1.7900115e-07 3.5297337e-08]\n",
      " [8.3382652e-08 9.9998283e-01 5.3986728e-08 ... 1.5008297e-06\n",
      "  1.3523716e-06 1.8075782e-07]\n",
      " ...\n",
      " [2.7560614e-12 1.3447378e-08 6.1415845e-10 ... 3.4361097e-08\n",
      "  9.0787950e-08 4.3060408e-07]\n",
      " [6.6555170e-09 1.8836286e-07 6.8872810e-11 ... 3.4909647e-10\n",
      "  1.3057604e-06 4.3284267e-08]\n",
      " [1.0525301e-03 2.0328805e-06 1.3843950e-06 ... 3.3244667e-08\n",
      "  3.1941192e-06 1.3202005e-06]]\n"
     ]
    }
   ],
   "source": [
    "predictions = new_model.predict([x_test])\n",
    "print(predictions)"
   ]
  },
  {
   "cell_type": "code",
   "execution_count": 20,
   "id": "477ed665",
   "metadata": {},
   "outputs": [
    {
     "data": {
      "image/png": "[encoded data removed]",
      "text/plain": [
       "<Figure size 432x288 with 1 Axes>"
      ]
     },
     "metadata": {
      "needs_background": "light"
     },
     "output_type": "display_data"
    }
   ],
   "source": [
    "plt.imshow(x_test[652])\n",
    "plt.show()"
   ]
  },
  {
   "cell_type": "code",
   "execution_count": 21,
   "id": "e127339e",
   "metadata": {},
   "outputs": [
    {
     "name": "stdout",
     "output_type": "stream",
     "text": [
      "1\n"
     ]
    }
   ],
   "source": [
    "print(np.argmax(predictions[652]))  # to get the predicted value of index 652"
   ]
  },
  {
   "cell_type": "markdown",
   "id": "9bafe085",
   "metadata": {},
   "source": [
    "# Comparison Between The Two Algorithms"
   ]
  },
  {
   "cell_type": "code",
   "execution_count": 22,
   "id": "ead564aa",
   "metadata": {},
   "outputs": [
    {
     "name": "stdout",
     "output_type": "stream",
     "text": [
      "DNN vs CNN Performance Comparison:\n",
      "DNN Validation Accuracy: 0.9753000140190125\n",
      "CNN Validation Accuracy: 0.9879000186920166\n"
     ]
    }
   ],
   "source": [
    "print(\"DNN vs CNN Performance Comparison:\")\n",
    "print(\"DNN Validation Accuracy:\", Dnn_val_acc)\n",
    "print(\"CNN Validation Accuracy:\", Cnn_val_acc)"
   ]
  },
  {
   "cell_type": "markdown",
   "id": "5f6f7ce3",
   "metadata": {},
   "source": [
    "# GUI"
   ]
  },
  {
   "cell_type": "code",
   "execution_count": 23,
   "id": "61e16794",
   "metadata": {},
   "outputs": [],
   "source": [
    "import tkinter as tk\n",
    "import cv2\n",
    "from PIL import ImageTk,Image,ImageDraw"
   ]
  },
  {
   "cell_type": "code",
   "execution_count": 25,
   "id": "5d63ac4d",
   "metadata": {},
   "outputs": [],
   "source": [
    "Cnn_model.load_weights('CNN-MNIST.h5')"
   ]
  },
  {
   "cell_type": "code",
   "execution_count": 26,
   "id": "7fa2cff6",
   "metadata": {},
   "outputs": [],
   "source": [
    "count = 0\n",
    "img = Image.new('RGB', (500, 500), (0, 0, 0))\n",
    "img_draw = ImageDraw.Draw(img)\n",
    "\n",
    "win = tk.Tk()\n",
    "\n",
    "canvas = tk.Canvas(win, width=500, height=500, bg='white')\n",
    "canvas.grid(row=0, column=0, columnspan=4)\n"
   ]
  },
  {
   "cell_type": "code",
   "execution_count": 27,
   "id": "c3902374",
   "metadata": {},
   "outputs": [],
   "source": [
    "def event_function(event):\n",
    "    \n",
    "    x=event.x\n",
    "    y=event.y\n",
    "    \n",
    "    x1=x-30\n",
    "    y1=y-30\n",
    "    \n",
    "    x2=x+30\n",
    "    y2=y+30\n",
    "\n",
    "    canvas.create_oval((x1,y1,x2,y2),fill='black')\n",
    "    img_draw.ellipse((x1,y1,x2,y2),fill='white')"
   ]
  },
  {
   "cell_type": "code",
   "execution_count": 28,
   "id": "3ddd1074",
   "metadata": {},
   "outputs": [],
   "source": [
    "def save():\n",
    "    \n",
    "    global count\n",
    "    \n",
    "    img_array=np.array(img)\n",
    "    img_array = img_array[:, :, 0]\n",
    "    img_array = np.expand_dims(img_array, axis=-1)  # Add channel dimension\n",
    "    img_array = img_array / 255.0\n",
    "    img_array=img_array.reshape(1,28,28,1)\n",
    "    \n",
    "    cv2.imwrite(str(count)+'.jpg',img_array)\n",
    "    count=count+1\n"
   ]
  },
  {
   "cell_type": "code",
   "execution_count": 30,
   "id": "bfa08766",
   "metadata": {},
   "outputs": [],
   "source": [
    "def clear():\n",
    "    \n",
    "    global img,img_draw\n",
    "    \n",
    "    canvas.delete('all')\n",
    "    img=Image.new('RGB',(500,500),(0,0,0))\n",
    "    img_draw=ImageDraw.Draw(img)    \n",
    "    \n",
    "    label_status.config(text='PREDICTED DIGIT: NONE')\n"
   ]
  },
  {
   "cell_type": "code",
   "execution_count": 37,
   "id": "39b40f9c",
   "metadata": {},
   "outputs": [
    {
     "name": "stdout",
     "output_type": "stream",
     "text": [
      "1/1 [==============================] - 0s 28ms/step\n",
      "1/1 [==============================] - 0s 30ms/step\n",
      "1/1 [==============================] - 0s 40ms/step\n",
      "1/1 [==============================] - 0s 37ms/step\n",
      "1/1 [==============================] - 0s 28ms/step\n",
      "1/1 [==============================] - 0s 29ms/step\n",
      "1/1 [==============================] - 0s 29ms/step\n",
      "1/1 [==============================] - 0s 30ms/step\n",
      "1/1 [==============================] - 0s 31ms/step\n",
      "1/1 [==============================] - 0s 33ms/step\n",
      "1/1 [==============================] - 0s 34ms/step\n",
      "1/1 [==============================] - 0s 28ms/step\n",
      "1/1 [==============================] - 0s 29ms/step\n",
      "1/1 [==============================] - 0s 29ms/step\n",
      "1/1 [==============================] - 0s 31ms/step\n",
      "1/1 [==============================] - 0s 28ms/step\n",
      "1/1 [==============================] - 0s 35ms/step\n",
      "1/1 [==============================] - 0s 44ms/step\n",
      "1/1 [==============================] - 0s 34ms/step\n",
      "1/1 [==============================] - 0s 27ms/step\n",
      "1/1 [==============================] - 0s 29ms/step\n",
      "1/1 [==============================] - 0s 28ms/step\n",
      "1/1 [==============================] - 0s 28ms/step\n"
     ]
    }
   ],
   "source": [
    "def predict():\n",
    "    \n",
    "    img_array=np.array(img)\n",
    "    img_array=cv2.cvtColor(img_array,cv2.COLOR_BGR2GRAY) # to convert to grayscale\n",
    "    img_array = cv2.resize(img_array, (28, 28))\n",
    "    img_array = np.expand_dims(img_array, axis=-1)  # Add channel dimension\n",
    "    img_array=img_array/255.0\n",
    "    img_array=img_array.reshape(1,28,28,1)\n",
    "    result=Cnn_model.predict(img_array)\n",
    "    label=np.argmax(result,axis=1)\n",
    "    \n",
    "    label_status.config(text='PREDICTED DIGIT:'+str(label))\n",
    "    \n",
    "count=0\n",
    "    \n",
    "win=tk.Tk()\n",
    "win.title(\"Digit Recognition\")\n",
    "\n",
    "canvas=tk.Canvas(win,width=500,height=500,bg='white')\n",
    "canvas.grid(row=0,column=0,columnspan=4)\n",
    "\n",
    "button_save=tk.Button(win,text='SAVE',bg='green',fg='white',font='Helvetica 20 bold',command=save)\n",
    "button_save.grid(row=1,column=0)\n",
    "\n",
    "button_predict=tk.Button(win,text='PREDICT',bg='blue',fg='white',font='Helvetica 20 bold',command=predict)\n",
    "button_predict.grid(row=1,column=1)\n",
    "\n",
    "button_clear=tk.Button(win,text='CLEAR',bg='yellow',fg='white',font='Helvetica 20 bold',command=clear)\n",
    "button_clear.grid(row=1,column=2)\n",
    "\n",
    "button_exit=tk.Button(win,text='EXIT',bg='red',fg='white',font='Helvetica 20 bold',command=win.destroy)\n",
    "button_exit.grid(row=1,column=3)\n",
    "\n",
    "label_status=tk.Label(win,text='PREDICTED DIGIT: NONE',bg='white',font='Helvetica 24 bold')\n",
    "label_status.grid(row=2,column=0,columnspan=4)\n",
    "\n",
    "canvas.bind('<B1-Motion>',event_function)\n",
    "img=Image.new('RGB',(500,500),(0,0,0))\n",
    "img_draw=ImageDraw.Draw(img)\n",
    "\n",
    "win.mainloop()"
   ]
  },
  {
   "cell_type": "code",
   "execution_count": null,
   "id": "9ba0b436",
   "metadata": {},
   "outputs": [],
   "source": []
  }
 ],
 "metadata": {
  "kernelspec": {
   "display_name": "Python 3 (ipykernel)",
   "language": "python",
   "name": "python3"
  },
  "language_info": {
   "codemirror_mode": {
    "name": "ipython",
    "version": 3
   },
   "file_extension": ".py",
   "mimetype": "text/x-python",
   "name": "python",
   "nbconvert_exporter": "python",
   "pygments_lexer": "ipython3",
   "version": "3.9.12"
  }
 },
 "nbformat": 4,
 "nbformat_minor": 5
}
